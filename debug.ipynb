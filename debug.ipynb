{
 "cells": [
  {
   "cell_type": "code",
   "execution_count": 10,
   "metadata": {},
   "outputs": [
    {
     "name": "stdout",
     "output_type": "stream",
     "text": [
      "(array([544, 576, 608, 640, 672]),)\n",
      "(array([ 81, 111, 112, 113, 143, 144, 175]),)\n"
     ]
    }
   ],
   "source": [
    "import numpy as np\n",
    "\n",
    "# read npy file\n",
    "\n",
    "# read npy file\n",
    "hmatrix_g1d = np.load('hmatrix_g1d.npy')\n",
    "hmatrix_r1d = np.load('hmatrix_r1d.npy')\n",
    "print(np.where(hmatrix_g1d == 255))\n",
    "print(np.where(hmatrix_r1d == 255))\n"
   ]
  },
  {
   "cell_type": "code",
   "execution_count": 11,
   "metadata": {},
   "outputs": [
    {
     "name": "stdout",
     "output_type": "stream",
     "text": [
      "(array([ 81, 111, 112, 113, 143, 144, 174, 175]),)\n",
      "(array([544, 576, 608, 640]),)\n"
     ]
    }
   ],
   "source": [
    "\n",
    "hmatrix_g1d = np.load('hmatrix_g1d.npy')\n",
    "hmatrix_r1d = np.load('hmatrix_r1d.npy')\n",
    "print(np.where(hmatrix_g1d == 255))\n",
    "print(np.where(hmatrix_r1d == 255))"
   ]
  }
 ],
 "metadata": {
  "kernelspec": {
   "display_name": "base",
   "language": "python",
   "name": "python3"
  },
  "language_info": {
   "codemirror_mode": {
    "name": "ipython",
    "version": 3
   },
   "file_extension": ".py",
   "mimetype": "text/x-python",
   "name": "python",
   "nbconvert_exporter": "python",
   "pygments_lexer": "ipython3",
   "version": "3.9.12"
  },
  "orig_nbformat": 4
 },
 "nbformat": 4,
 "nbformat_minor": 2
}
